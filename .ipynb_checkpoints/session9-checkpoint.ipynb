{
 "cells": [
  {
   "cell_type": "code",
   "execution_count": 1,
   "metadata": {},
   "outputs": [],
   "source": [
    "import cv2"
   ]
  },
  {
   "cell_type": "code",
   "execution_count": 14,
   "metadata": {},
   "outputs": [],
   "source": [
    "photo = cv2.imread('myphoto.jpg')"
   ]
  },
  {
   "cell_type": "code",
   "execution_count": 15,
   "metadata": {},
   "outputs": [
    {
     "data": {
      "text/plain": [
       "(480, 640, 3)"
      ]
     },
     "execution_count": 15,
     "metadata": {},
     "output_type": "execute_result"
    }
   ],
   "source": [
    "photo.shape"
   ]
  },
  {
   "cell_type": "code",
   "execution_count": 16,
   "metadata": {},
   "outputs": [],
   "source": [
    "cv2.imshow(\"hi\",photo)\n",
    "cv2.waitKey()\n",
    "cv2.destroyAllWindows()"
   ]
  },
  {
   "cell_type": "code",
   "execution_count": 20,
   "metadata": {},
   "outputs": [],
   "source": [
    "# How to draw rectangle in the image\n",
    "rect_photo = cv2.rectangle(photo,(50,70),(250,500),[0,255,0],5)"
   ]
  },
  {
   "cell_type": "code",
   "execution_count": 21,
   "metadata": {},
   "outputs": [],
   "source": [
    "cv2.imshow(\"hi\",rect_photo)\n",
    "cv2.waitKey()\n",
    "cv2.destroyAllWindows()"
   ]
  },
  {
   "cell_type": "code",
   "execution_count": 25,
   "metadata": {},
   "outputs": [],
   "source": [
    "#rectangle over the face using pre trained model\n",
    "model=cv2.CascadeClassifier('haarcascade_frontalface_default.xml')"
   ]
  },
  {
   "cell_type": "code",
   "execution_count": 26,
   "metadata": {},
   "outputs": [
    {
     "data": {
      "text/plain": [
       "<CascadeClassifier 0000015073CA5810>"
      ]
     },
     "execution_count": 26,
     "metadata": {},
     "output_type": "execute_result"
    }
   ],
   "source": [
    "model"
   ]
  },
  {
   "cell_type": "code",
   "execution_count": 27,
   "metadata": {},
   "outputs": [
    {
     "data": {
      "text/plain": [
       "array([[[ 95, 116, 118],\n",
       "        [ 92, 114, 119],\n",
       "        [ 85, 111, 117],\n",
       "        ...,\n",
       "        [105, 131, 138],\n",
       "        [105, 130, 140],\n",
       "        [105, 132, 142]],\n",
       "\n",
       "       [[ 95, 114, 117],\n",
       "        [ 93, 115, 120],\n",
       "        [ 91, 115, 121],\n",
       "        ...,\n",
       "        [107, 130, 138],\n",
       "        [104, 130, 137],\n",
       "        [105, 131, 138]],\n",
       "\n",
       "       [[ 87, 105, 106],\n",
       "        [ 83, 104, 106],\n",
       "        [ 78, 100, 106],\n",
       "        ...,\n",
       "        [113, 132, 139],\n",
       "        [110, 132, 138],\n",
       "        [107, 131, 137]],\n",
       "\n",
       "       ...,\n",
       "\n",
       "       [[111, 107, 112],\n",
       "        [117, 114, 116],\n",
       "        [118, 113, 114],\n",
       "        ...,\n",
       "        [ 60,  76, 113],\n",
       "        [ 57,  73, 110],\n",
       "        [ 66,  80, 116]],\n",
       "\n",
       "       [[109, 108, 112],\n",
       "        [104, 101, 103],\n",
       "        [ 97,  93,  92],\n",
       "        ...,\n",
       "        [ 63,  76, 114],\n",
       "        [ 65,  76, 114],\n",
       "        [ 49,  60,  98]],\n",
       "\n",
       "       [[100,  99, 103],\n",
       "        [108, 105, 107],\n",
       "        [102,  98,  97],\n",
       "        ...,\n",
       "        [ 67,  79, 119],\n",
       "        [ 56,  65, 103],\n",
       "        [ 64,  73, 111]]], dtype=uint8)"
      ]
     },
     "execution_count": 27,
     "metadata": {},
     "output_type": "execute_result"
    }
   ],
   "source": [
    "photo"
   ]
  },
  {
   "cell_type": "code",
   "execution_count": 28,
   "metadata": {},
   "outputs": [],
   "source": [
    "face = model.detectMultiScale(photo)"
   ]
  },
  {
   "cell_type": "code",
   "execution_count": 29,
   "metadata": {},
   "outputs": [
    {
     "data": {
      "text/plain": [
       "array([[268, 154, 105, 105]], dtype=int32)"
      ]
     },
     "execution_count": 29,
     "metadata": {},
     "output_type": "execute_result"
    }
   ],
   "source": [
    "face "
   ]
  },
  {
   "cell_type": "code",
   "execution_count": 31,
   "metadata": {},
   "outputs": [],
   "source": [
    "x1=face[0][0]\n",
    "y1=face[0][1]\n",
    "x2=x1 + face[0][2]\n",
    "y2=y1 + face[0][3]"
   ]
  },
  {
   "cell_type": "code",
   "execution_count": 34,
   "metadata": {},
   "outputs": [],
   "source": [
    "fphoto = cv2.rectangle(photo,(x1,y1),(x2,y2),[0,255.0],5)"
   ]
  },
  {
   "cell_type": "code",
   "execution_count": 35,
   "metadata": {},
   "outputs": [],
   "source": [
    "cv2.imshow(\"hi\",fphoto)\n",
    "cv2.waitKey()\n",
    "cv2.destroyAllWindows()"
   ]
  },
  {
   "cell_type": "code",
   "execution_count": 36,
   "metadata": {},
   "outputs": [],
   "source": [
    "# live face detection"
   ]
  },
  {
   "cell_type": "code",
   "execution_count": 44,
   "metadata": {},
   "outputs": [],
   "source": [
    "cap = cv2.VideoCapture(0)\n",
    "while True:\n",
    "  ret,photo = cap.read()\n",
    "  faces = model.detectMultiScale(photo)\n",
    "  if len(faces) == 0:\n",
    "    pass\n",
    "  else:\n",
    "    x1=faces[0][0]\n",
    "    y1=faces[0][1]\n",
    "    x2=x1 + faces[0][2]\n",
    "    y2=y1 + faces[0][3]\n",
    "    aphoto = cv2.rectangle(photo,(x1,y1),(x2,y2),[0,255,0],5)\n",
    "    cv2.imshow(\"face\",aphoto)\n",
    "    if cv2.waitKey(200) == 13:\n",
    "      break\n",
    "      \n",
    "cv2.destroyAllWindows()\n",
    "cap.release()"
   ]
  },
  {
   "cell_type": "code",
   "execution_count": null,
   "metadata": {},
   "outputs": [],
   "source": []
  }
 ],
 "metadata": {
  "kernelspec": {
   "display_name": "Python 3",
   "language": "python",
   "name": "python3"
  },
  "language_info": {
   "codemirror_mode": {
    "name": "ipython",
    "version": 3
   },
   "file_extension": ".py",
   "mimetype": "text/x-python",
   "name": "python",
   "nbconvert_exporter": "python",
   "pygments_lexer": "ipython3",
   "version": "3.8.5"
  }
 },
 "nbformat": 4,
 "nbformat_minor": 4
}
