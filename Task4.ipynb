{
 "cells": [
  {
   "cell_type": "code",
   "execution_count": 1,
   "metadata": {},
   "outputs": [],
   "source": [
    "# Task 4.1\n",
    "# create image by yourself using python code"
   ]
  },
  {
   "cell_type": "code",
   "execution_count": 18,
   "metadata": {},
   "outputs": [],
   "source": [
    "import cv2"
   ]
  },
  {
   "cell_type": "code",
   "execution_count": 4,
   "metadata": {},
   "outputs": [],
   "source": [
    "import numpy as np"
   ]
  },
  {
   "cell_type": "code",
   "execution_count": 9,
   "metadata": {},
   "outputs": [],
   "source": [
    "data = np.zeros((512,512,3))"
   ]
  },
  {
   "cell_type": "code",
   "execution_count": 16,
   "metadata": {},
   "outputs": [],
   "source": [
    "data[100:200,100:200] = [0,255,0]\n",
    "cv2.rectangle\n",
    "cv2.circle\n"
   ]
  },
  {
   "cell_type": "code",
   "execution_count": 17,
   "metadata": {},
   "outputs": [],
   "source": [
    "cv2.imshow(\"hi\",data)\n",
    "cv2.waitKey()\n",
    "cv2.destroyAllWindows()"
   ]
  },
  {
   "cell_type": "code",
   "execution_count": 23,
   "metadata": {},
   "outputs": [],
   "source": [
    "img1=cv2.imread('img1.jpg')\n",
    "img2=cv2.imread('img2.jpg')"
   ]
  },
  {
   "cell_type": "code",
   "execution_count": 24,
   "metadata": {},
   "outputs": [
    {
     "data": {
      "text/plain": [
       "array([[[71, 18,  8],\n",
       "        [70, 17,  7],\n",
       "        [70, 17,  7],\n",
       "        ...,\n",
       "        [70, 15, 10],\n",
       "        [70, 15, 12],\n",
       "        [70, 15, 12]],\n",
       "\n",
       "       [[70, 17,  7],\n",
       "        [70, 17,  7],\n",
       "        [71, 18,  8],\n",
       "        ...,\n",
       "        [70, 15, 10],\n",
       "        [70, 15, 12],\n",
       "        [70, 15, 12]],\n",
       "\n",
       "       [[70, 17,  7],\n",
       "        [71, 18,  8],\n",
       "        [72, 19,  9],\n",
       "        ...,\n",
       "        [70, 15, 10],\n",
       "        [70, 15, 10],\n",
       "        [70, 15, 10]],\n",
       "\n",
       "       ...,\n",
       "\n",
       "       [[44,  2, 33],\n",
       "        [44,  2, 33],\n",
       "        [44,  2, 33],\n",
       "        ...,\n",
       "        [44,  1, 34],\n",
       "        [44,  1, 34],\n",
       "        [44,  1, 34]],\n",
       "\n",
       "       [[44,  2, 33],\n",
       "        [44,  2, 33],\n",
       "        [44,  2, 33],\n",
       "        ...,\n",
       "        [43,  0, 33],\n",
       "        [44,  1, 34],\n",
       "        [44,  1, 34]],\n",
       "\n",
       "       [[44,  2, 33],\n",
       "        [44,  2, 33],\n",
       "        [44,  2, 33],\n",
       "        ...,\n",
       "        [43,  0, 33],\n",
       "        [44,  1, 34],\n",
       "        [44,  1, 34]]], dtype=uint8)"
      ]
     },
     "execution_count": 24,
     "metadata": {},
     "output_type": "execute_result"
    }
   ],
   "source": [
    "img1"
   ]
  },
  {
   "cell_type": "code",
   "execution_count": 33,
   "metadata": {},
   "outputs": [],
   "source": [
    "fimg= np.hstack((img1,img2))"
   ]
  },
  {
   "cell_type": "code",
   "execution_count": 27,
   "metadata": {},
   "outputs": [
    {
     "data": {
      "text/plain": [
       "(1440, 2560, 3)"
      ]
     },
     "execution_count": 27,
     "metadata": {},
     "output_type": "execute_result"
    }
   ],
   "source": [
    "img1.shape"
   ]
  },
  {
   "cell_type": "code",
   "execution_count": 28,
   "metadata": {
    "scrolled": true
   },
   "outputs": [
    {
     "data": {
      "text/plain": [
       "(1080, 1920, 3)"
      ]
     },
     "execution_count": 28,
     "metadata": {},
     "output_type": "execute_result"
    }
   ],
   "source": [
    "img2.shape"
   ]
  },
  {
   "cell_type": "code",
   "execution_count": 31,
   "metadata": {},
   "outputs": [],
   "source": [
    "img1 = img1[:1080,:1920]"
   ]
  },
  {
   "cell_type": "code",
   "execution_count": 34,
   "metadata": {},
   "outputs": [],
   "source": [
    "cv2.imshow(\"hi\",fimg)\n",
    "cv2.waitKey()\n",
    "cv2.destroyAllWindows()"
   ]
  },
  {
   "cell_type": "code",
   "execution_count": null,
   "metadata": {},
   "outputs": [],
   "source": [
    "\n"
   ]
  },
  {
   "cell_type": "code",
   "execution_count": null,
   "metadata": {},
   "outputs": [],
   "source": []
  },
  {
   "cell_type": "code",
   "execution_count": null,
   "metadata": {},
   "outputs": [],
   "source": []
  },
  {
   "cell_type": "code",
   "execution_count": 35,
   "metadata": {},
   "outputs": [],
   "source": [
    "img2[:100,:200] = img1[:100,:200]"
   ]
  },
  {
   "cell_type": "code",
   "execution_count": 36,
   "metadata": {},
   "outputs": [],
   "source": [
    "cv2.imshow(\"hi\",img2)\n",
    "cv2.waitKey()\n",
    "cv2.destroyAllWindows()"
   ]
  },
  {
   "cell_type": "code",
   "execution_count": null,
   "metadata": {},
   "outputs": [],
   "source": []
  }
 ],
 "metadata": {
  "kernelspec": {
   "display_name": "Python 3",
   "language": "python",
   "name": "python3"
  },
  "language_info": {
   "codemirror_mode": {
    "name": "ipython",
    "version": 3
   },
   "file_extension": ".py",
   "mimetype": "text/x-python",
   "name": "python",
   "nbconvert_exporter": "python",
   "pygments_lexer": "ipython3",
   "version": "3.8.5"
  }
 },
 "nbformat": 4,
 "nbformat_minor": 4
}
